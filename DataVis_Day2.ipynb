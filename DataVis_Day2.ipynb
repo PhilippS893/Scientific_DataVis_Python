{
 "cells": [
  {
   "cell_type": "code",
   "execution_count": null,
   "metadata": {
    "executionInfo": {
     "elapsed": 10,
     "status": "ok",
     "timestamp": 1664977067894,
     "user": {
      "displayName": "Dominik Kraft",
      "userId": "18275469635399983658"
     },
     "user_tz": -120
    },
    "id": "cak6NVFZ7p7q"
   },
   "outputs": [],
   "source": [
    "# importing packages\n",
    "import numpy as np\n",
    "import pandas as pd\n",
    "import seaborn as sns\n",
    "\n",
    "import matplotlib.pyplot as plt\n",
    "%matplotlib inline "
   ]
  },
  {
   "cell_type": "code",
   "execution_count": null,
   "metadata": {
    "colab": {
     "base_uri": "https://localhost:8080/"
    },
    "executionInfo": {
     "elapsed": 9,
     "status": "ok",
     "timestamp": 1664977067895,
     "user": {
      "displayName": "Dominik Kraft",
      "userId": "18275469635399983658"
     },
     "user_tz": -120
    },
    "id": "oxDv4UK97wD3",
    "outputId": "88697a32-1b53-4564-e055-544d56822cf3"
   },
   "outputs": [],
   "source": [
    "df = sns.load_dataset(\"penguins\")\n",
    "df = df.dropna(axis=\"index\", how=\"any\", inplace=False) #dropping rows that contain >= 1 missing value \n",
    "df.isnull().sum() #sanity check\n",
    "df.shape\n"
   ]
  },
  {
   "cell_type": "markdown",
   "metadata": {
    "id": "Kd636r3lJHZ4"
   },
   "source": [
    "# Visualizing distributions of our 🐧 data \n",
    "\n",
    "For today, we will mostly stick to `seaborn` and its [distributions module](https://seaborn.pydata.org/api.html#distribution-api). By plotting the distribution of our data, we can get quick answers to many questions: \n",
    "- what is the central tendecy of our data\n",
    "- are my values in a plausible (or expected) range\n",
    "- is my data skewed or contains outliers\n",
    ".. and many more.\n",
    "\n"
   ]
  },
  {
   "cell_type": "markdown",
   "metadata": {
    "id": "lVf71R4oJIOT"
   },
   "source": [
    "## Plotting univariate distributions \n",
    "\n",
    "Lets use an `histogram` to visualize the distribution of our penguins flipper length. `Seaborn` offers multiple solutions, with `sns.displot` being one of them. \n",
    "\n",
    "Note: The bin size is usually automatically set for you based on the variance and number of observations - however this might sometimes lead to non-optimal results, eg. if you only have a relatively small number of observations per instance. To change that, we can either use the `bins=xx`or `binwidth=xx` parameter.\n",
    "\n",
    "Use the `sns.displot` function to create the figures below. See which number you need to input to `bins` to get the same results. \n",
    "\n",
    "|Figure 1 | Figure 2|\n",
    "|-|-|\n",
    "![alt](figures/day2-1.png) | ![alt](figures/day2-2.png)"
   ]
  },
  {
   "cell_type": "code",
   "execution_count": null,
   "metadata": {
    "colab": {
     "base_uri": "https://localhost:8080/",
     "height": 387
    },
    "executionInfo": {
     "elapsed": 679,
     "status": "ok",
     "timestamp": 1664977068567,
     "user": {
      "displayName": "Dominik Kraft",
      "userId": "18275469635399983658"
     },
     "user_tz": -120
    },
    "id": "0gCi0PORDno8",
    "outputId": "1941d305-1e61-4967-bfd7-73c9e0cea8ef"
   },
   "outputs": [],
   "source": [
    "# figure 1\n",
    "sns.displot(df, x=\"flipper_length_mm\") #uses the same code as sns.histplot()\n",
    "\n",
    "# figure 2\n",
    "sns.displot(df, x=\"flipper_length_mm\", bins=25)"
   ]
  },
  {
   "cell_type": "markdown",
   "metadata": {
    "id": "HEpioc9aMIEf"
   },
   "source": [
    "Lets try to break down the `flipper_length` distribution by `species`. \n",
    "\n",
    "Try to recreate the following graphs:\n",
    "Note: Figure 3 may not make much sense, it is merely for repetition.\n",
    "\n",
    "|Figure 1 | Figure 2 | Figure 3|\n",
    "|-|-|-|\n",
    "![alt](figures/day2-3.png) | ![alt](figures/day2-4.png) | ![alt](figures/day2-5.png) |"
   ]
  },
  {
   "cell_type": "code",
   "execution_count": null,
   "metadata": {
    "colab": {
     "base_uri": "https://localhost:8080/",
     "height": 387
    },
    "executionInfo": {
     "elapsed": 563,
     "status": "ok",
     "timestamp": 1664977069124,
     "user": {
      "displayName": "Dominik Kraft",
      "userId": "18275469635399983658"
     },
     "user_tz": -120
    },
    "id": "GmSmeZ-buA0Z",
    "outputId": "851c3556-1d64-4dba-8710-096d31717261"
   },
   "outputs": [],
   "source": [
    "#figure 1\n",
    "sns.displot(df, x=\"flipper_length_mm\", hue=\"species\")\n",
    "#figure 2\n",
    "#sns.displot(df, x=\"body_mass_g\", hue=\"species\")\n",
    "#figure 3\n",
    "#sns.displot(df, x=\"body_mass_g\", hue=\"species\", row=\"sex\", col='island')"
   ]
  },
  {
   "cell_type": "markdown",
   "metadata": {
    "id": "v-rYqmqduEKj"
   },
   "source": [
    "Sometimes, these visualizations make it difficult to disentangle each distribution. \n",
    "`Seaborn` offer seversal solutions to potentially overcome this:\n",
    "- use `element=\"step\"` to change to a step-plot\n",
    "- use `multiple=\"stack\"` to stack multiple distributions\n",
    "- use `multiple=\"dodge\"` to create non-overlapping bars.\n",
    "\n",
    "Try some of these arguments and think about the pros and cons of each option!\n",
    "\n",
    "\n",
    "###❗Note❗\n",
    "If your groups have unequal number of observations, comparing distributions might not be ideal. For that `seaborn` offers different ways to normalize you data by using the `stat` argument. \n",
    "\n",
    "By default, however, the normalization is applied to the entire distribution, so this simply rescales the height of the bars. By setting `common_norm=False`, each subset will be normalized independently\n",
    "\n",
    "Try to recreate the following graphs (both use the `element=\"step\"` argument):\n",
    "\n",
    "|Figure 1 | Figure 2 |\n",
    "|-|-|\n",
    "![alt](figures/day2-6.png) | ![alt](figures/day2-7.png) |"
   ]
  },
  {
   "cell_type": "code",
   "execution_count": null,
   "metadata": {
    "colab": {
     "base_uri": "https://localhost:8080/",
     "height": 387
    },
    "executionInfo": {
     "elapsed": 392,
     "status": "ok",
     "timestamp": 1664977069510,
     "user": {
      "displayName": "Dominik Kraft",
      "userId": "18275469635399983658"
     },
     "user_tz": -120
    },
    "id": "gYP8V6kzKFv6",
    "outputId": "4e9a10c2-d3ec-47d3-ac0a-bf448fa24e92"
   },
   "outputs": [],
   "source": [
    "sns.displot(df, x=\"flipper_length_mm\", hue=\"species\", element=\"step\") #step plot"
   ]
  },
  {
   "cell_type": "markdown",
   "metadata": {},
   "source": [
    "Now try to recreate the figures below using `multiple=...`:\n",
    "\n",
    "|Figure 1 | Figure 2 |\n",
    "|-|-|\n",
    "![alt](figures/day2-8.png) | ![alt](figures/day2-9.png) |"
   ]
  },
  {
   "cell_type": "code",
   "execution_count": null,
   "metadata": {
    "colab": {
     "base_uri": "https://localhost:8080/",
     "height": 387
    },
    "executionInfo": {
     "elapsed": 657,
     "status": "ok",
     "timestamp": 1664977070159,
     "user": {
      "displayName": "Dominik Kraft",
      "userId": "18275469635399983658"
     },
     "user_tz": -120
    },
    "id": "QsGJjJAUKGD0",
    "outputId": "916d57c5-c35f-4450-9bf1-3f2d981b9d11"
   },
   "outputs": [],
   "source": [
    "sns.displot(df, x=\"flipper_length_mm\", hue=\"species\", multiple=\"stack\") #stack bins onto each other"
   ]
  },
  {
   "cell_type": "code",
   "execution_count": null,
   "metadata": {
    "colab": {
     "base_uri": "https://localhost:8080/",
     "height": 387
    },
    "executionInfo": {
     "elapsed": 458,
     "status": "ok",
     "timestamp": 1664977070606,
     "user": {
      "displayName": "Dominik Kraft",
      "userId": "18275469635399983658"
     },
     "user_tz": -120
    },
    "id": "tOaSHV-6KGfW",
    "outputId": "a763166a-4864-4799-eaf4-7e7a242d416e"
   },
   "outputs": [],
   "source": [
    "sns.displot(df, x=\"flipper_length_mm\", hue=\"species\", multiple=\"dodge\") #no overlap, works fine for a small number of levels"
   ]
  },
  {
   "cell_type": "markdown",
   "metadata": {
    "id": "fHpltaVwub7F"
   },
   "source": [
    "# Kernel Density estimation\n",
    "\n",
    "A different way to plot distributions are `KDE Plots`. Instead of using discrete bins, `KDE` smoothes the observations with a `Gaussian Kernel` and thus produces a continous estimation.\n",
    "\n",
    "Conveniently, `sns.displot` can be also used to create `KDE` plots by setting the `kind` parameter to `kde`.\n",
    "The smoothing bandwith relies on the `bw_adjust`, where one needs to find a good balance between under- and oversmoothing.\n",
    "\n",
    "\n",
    "### ❗Note❗\n",
    "- `KDE` plots might not be suitable for variables that are naturally bounded, e.g. a `bill at the restaurant` is usually > 0€. For this situation, the tails of the Gaussian might expand to < 0, which simply does not reflect the data properly. The `cut` and `clip` parameters can be used to control the extent of the curve, but datasets that have many observations close to a natural boundary may be better served by a different visualization method.\n",
    "- Moreover `KDE` always returns a smooth curve, even if ther underlying data is not."
   ]
  },
  {
   "cell_type": "code",
   "execution_count": 107,
   "metadata": {
    "colab": {
     "base_uri": "https://localhost:8080/",
     "height": 387
    },
    "executionInfo": {
     "elapsed": 836,
     "status": "ok",
     "timestamp": 1664977071435,
     "user": {
      "displayName": "Dominik Kraft",
      "userId": "18275469635399983658"
     },
     "user_tz": -120
    },
    "id": "AlpotW9UyUlw",
    "outputId": "de1289d8-178e-45be-8765-d7cb43346a26"
   },
   "outputs": [
    {
     "name": "stderr",
     "output_type": "stream",
     "text": [
      "/Users/philis/anaconda3/envs/longi_modelling/lib/python3.9/site-packages/seaborn/_oldcore.py:1119: FutureWarning: use_inf_as_na option is deprecated and will be removed in a future version. Convert inf values to NaN before operating instead.\n",
      "  with pd.option_context('mode.use_inf_as_na', True):\n"
     ]
    },
    {
     "data": {
      "text/plain": [
       "<seaborn.axisgrid.FacetGrid at 0x2905d6a00>"
      ]
     },
     "execution_count": 107,
     "metadata": {},
     "output_type": "execute_result"
    },
    {
     "data": {
      "image/png": "[encoded data removed]",
      "text/plain": [
       "<Figure size 500x500 with 1 Axes>"
      ]
     },
     "metadata": {},
     "output_type": "display_data"
    }
   ],
   "source": [
    "sns.displot(df, x=\"flipper_length_mm\", kind=\"kde\")\n",
    "\n",
    "### try to play around with the bw_adjust parameter and see how it affects the bimodality"
   ]
  },
  {
   "cell_type": "markdown",
   "metadata": {
    "id": "iQ0kMIPvzhEC"
   },
   "source": [
    "Since we are using the same `sns.displot` functionality, we can use all features already described above, for example, `stacked KDE plots`.\n",
    "Try recreating this figure:\n",
    "![alt](figures/day2-10.png)"
   ]
  },
  {
   "cell_type": "code",
   "execution_count": null,
   "metadata": {
    "colab": {
     "base_uri": "https://localhost:8080/",
     "height": 387
    },
    "executionInfo": {
     "elapsed": 16,
     "status": "ok",
     "timestamp": 1664977071436,
     "user": {
      "displayName": "Dominik Kraft",
      "userId": "18275469635399983658"
     },
     "user_tz": -120
    },
    "id": "jNko0T4u1VgD",
    "outputId": "fafdb72c-ae9d-46a0-a818-f9d45286e203"
   },
   "outputs": [],
   "source": [
    "sns.displot(df, x=\"flipper_length_mm\", hue=\"species\", kind=\"kde\", multiple=\"stack\") # try using fill=True instead of multiple=\"stack\""
   ]
  },
  {
   "cell_type": "markdown",
   "metadata": {},
   "source": [
    "Now, we've used the `displot` function at the moment and used the `kind=...` argument to switch between different types.\n",
    "As mentioned above you can also use the `histplot` function. The `histplot` function has the advantage, that you can overlay the `kde` _onto_ the histogram itself.\n",
    "Using `histplot` try to recreate the following figures:\n",
    "\n",
    "|Figure 1 | Figure 2 |\n",
    "|-|-|\n",
    "![alt](figures/day2-11.png) | ![alt](figures/day2-12.png) |"
   ]
  },
  {
   "cell_type": "code",
   "execution_count": null,
   "metadata": {},
   "outputs": [],
   "source": [
    "plt.figure(figsize=(4,4))\n",
    "sns.histplot(data=df, x='flipper_length_mm', kde=True)\n",
    "\n",
    "plt.figure(figsize=(4,4))\n",
    "sns.histplot(data=df, x='flipper_length_mm', hue='species', bins=25, kde=True)"
   ]
  },
  {
   "cell_type": "markdown",
   "metadata": {
    "id": "i3KjDe6o1XBm"
   },
   "source": [
    "# Plotting distributions of categorical data \n",
    "\n",
    "Beyond visualizing univariate distributions, we are often also interested whether distributions are different between groups. Comparing distributions can be achieved using for example:\n",
    "- boxplots\n",
    "- violinplots\n",
    "\n",
    "For that, we can use the `sns.catplot` or `sns.boxplot` functionality. You'll also need another argument for the plot: `palette`. The colors for the following figure are within the `vlag` palette. "
   ]
  },
  {
   "cell_type": "markdown",
   "metadata": {
    "id": "kw08XQpv4y2Z"
   },
   "source": [
    "First lets boxplot our 🐧s flipper length as a function of species:\n",
    "\n",
    "This is what your figure should look like:\n",
    "\n",
    "![alt](figures/day2-13.png)"
   ]
  },
  {
   "cell_type": "code",
   "execution_count": null,
   "metadata": {
    "colab": {
     "base_uri": "https://localhost:8080/",
     "height": 387
    },
    "executionInfo": {
     "elapsed": 710,
     "status": "ok",
     "timestamp": 1664977072136,
     "user": {
      "displayName": "Dominik Kraft",
      "userId": "18275469635399983658"
     },
     "user_tz": -120
    },
    "id": "j459meLG4jUt",
    "outputId": "9e242699-90e0-4911-afe9-86fc17def4c3"
   },
   "outputs": [],
   "source": [
    "sns.catplot(data=df, x=\"species\", y=\"flipper_length_mm\", kind=\"box\", palette=\"vlag\") # equivalent to sns.boxplot(data=df, x=\"species\", y=\"flipper_length_mm\", palette=\"vlag\")"
   ]
  },
  {
   "cell_type": "markdown",
   "metadata": {
    "id": "rCpEKoan4l9n"
   },
   "source": [
    "❗However, since `boxplots` show summary stats, some interesting features of the data might be hidden. See for example how different data leads to the same `boxplot`❗\n",
    "\n",
    "See here: \n",
    "- https://stats.stackexchange.com/questions/135737/will-two-distributions-with-identical-5-number-summaries-always-have-the-same-sh\n",
    "- https://en.wikipedia.org/wiki/Anscombe%27s_quartet\n",
    "\n",
    "To alleviate this problem we can simply overlay single datapoints on the box plots. Like this: \n",
    "\n",
    "![alt](figures/day2-14.png)\n",
    "\n",
    "This can be easily achived by using the `sns.stripplot` function:"
   ]
  },
  {
   "cell_type": "code",
   "execution_count": null,
   "metadata": {
    "colab": {
     "base_uri": "https://localhost:8080/",
     "height": 387
    },
    "executionInfo": {
     "elapsed": 21,
     "status": "ok",
     "timestamp": 1664977072137,
     "user": {
      "displayName": "Dominik Kraft",
      "userId": "18275469635399983658"
     },
     "user_tz": -120
    },
    "id": "ePDEFIi4A55W",
    "outputId": "8b1f87d2-750a-4fef-fee1-fed6d298ec18"
   },
   "outputs": [],
   "source": [
    "sns.catplot(data=df, x=\"species\", y=\"flipper_length_mm\", kind=\"box\", palette=\"vlag\")\n",
    "sns.stripplot(data=df, x=\"species\", y=\"flipper_length_mm\", color=\"black\") #try to overlay our boxplot with our data points in black "
   ]
  },
  {
   "cell_type": "markdown",
   "metadata": {},
   "source": [
    "But what if we have categories within categories? We have the `sex` category for each species. Using `hue` again, we can separate our plot even further. What about the stripplot then though. Can you create a figure like the one below? \n",
    "\n",
    "![alt](figures/day2-15.png)\n",
    "\n",
    "You'll probably run into something weird at first. The individual datapoints seem to be mixed. Curious!\n",
    "Hint: check the help (`sns.stripplot?`). Can you find an argument that helps you in separating male and female dots?\n",
    "\n",
    "Another hint: You'll likely have males and females twice in your _legend_. Check if you can find out what the `legend` argument does in `sns.stripplot`."
   ]
  },
  {
   "cell_type": "code",
   "execution_count": null,
   "metadata": {},
   "outputs": [],
   "source": [
    "sns.catplot(data=df, x=\"species\", y=\"flipper_length_mm\", hue=\"sex\", kind=\"box\", palette=\"vlag\")\n",
    "sns.stripplot(data=df, x=\"species\", y=\"flipper_length_mm\", hue=\"sex\", dodge=True, palette=\"gray\", legend=False)"
   ]
  },
  {
   "cell_type": "markdown",
   "metadata": {
    "id": "9dM89o-mBZfa"
   },
   "source": [
    "Seeing the individual data points is already much better, but we can also go one step further and combine a `boxplot` with a `KDE` and use `sns.violinplot`.\n",
    "Now using `sns.catplot` comes in handy, as we only need to adjust the `kind` parameter.\n",
    "\n",
    "The `violinpot` shows the distribution of the data, as well as the whisker and quartiles of the boxplot inside the violin. Keep in mind, that since the `violinplot` also contains a `KDE`, you might also want to check additional parameters, such as the bandwith (ie `bw`)."
   ]
  },
  {
   "cell_type": "code",
   "execution_count": null,
   "metadata": {
    "colab": {
     "base_uri": "https://localhost:8080/",
     "height": 387
    },
    "executionInfo": {
     "elapsed": 18,
     "status": "ok",
     "timestamp": 1664977072140,
     "user": {
      "displayName": "Dominik Kraft",
      "userId": "18275469635399983658"
     },
     "user_tz": -120
    },
    "id": "Rl-UjSYiCD5M",
    "outputId": "76c36d3e-db9c-413b-e61d-1842999150e5"
   },
   "outputs": [],
   "source": [
    "sns.catplot(data=df, x=\"species\", y=\"flipper_length_mm\", kind=\"violin\", palette=\"vlag\") # see also sns.violinplot()\n",
    "# try to adjust the bw parameter and see how it affects your violins\n"
   ]
  },
  {
   "cell_type": "markdown",
   "metadata": {
    "id": "1OHBTqPJCQvN"
   },
   "source": [
    "Now try to plot the `violinplot` again but with `x- and y-axis` being switched. Additionally try to also incorporate the `sex` information and find a way that you will end up having 3 and not 6 (3 species * 2 sex) violins. \n",
    "\n",
    "Your plot should look something like this (using `viridis_r` as your `palette`):\n",
    "\n",
    "![alt](figures/day2-16.png)"
   ]
  },
  {
   "cell_type": "code",
   "execution_count": null,
   "metadata": {
    "colab": {
     "base_uri": "https://localhost:8080/",
     "height": 603
    },
    "executionInfo": {
     "elapsed": 12,
     "status": "ok",
     "timestamp": 1664977072707,
     "user": {
      "displayName": "Dominik Kraft",
      "userId": "18275469635399983658"
     },
     "user_tz": -120
    },
    "id": "Zxul3bXiEDPw",
    "outputId": "23fbd9af-3b15-47ec-e2c8-9d4f4ae56083"
   },
   "outputs": [],
   "source": [
    "sns.catplot(data=df, y=\"species\", x=\"flipper_length_mm\", kind=\"violin\", \n",
    "            palette=\"viridis_r\", hue=\"sex\", split=True, height=8, aspect=1) "
   ]
  },
  {
   "cell_type": "markdown",
   "metadata": {
    "id": "5YDpnH4hGNRl"
   },
   "source": [
    "### Note\n",
    "Using `sns.catplot()` with different `kind` parameters come with a certain advantage, ie., we can very easily introduce additional variables to split our data and investigate higher-order relationship. Yesterday we did the same thing using `sns.lmplot` in which we split the data for `species` and within each species stratified our plot for `sex`.\n",
    "\n",
    "This is called a [Facetgrid](https://seaborn.pydata.org/generated/seaborn.FacetGrid.html#seaborn.FacetGrid) and allows you to plot something like: "
   ]
  },
  {
   "cell_type": "code",
   "execution_count": null,
   "metadata": {
    "colab": {
     "base_uri": "https://localhost:8080/",
     "height": 315
    },
    "executionInfo": {
     "elapsed": 1788,
     "status": "ok",
     "timestamp": 1664977102309,
     "user": {
      "displayName": "Dominik Kraft",
      "userId": "18275469635399983658"
     },
     "user_tz": -120
    },
    "id": "3IAScCPXJbZa",
    "outputId": "03d37fe6-0033-4f7d-9619-f38e130b5786"
   },
   "outputs": [],
   "source": [
    "sns.catplot(data=df, x=\"sex\", y=\"flipper_length_mm\", kind=\"violin\", \n",
    "            palette=\"viridis_r\", col=\"species\", height=4, aspect=0.8) #Note that Facetgrids can be sized with the height and aspect parameter!"
   ]
  },
  {
   "cell_type": "markdown",
   "metadata": {
    "id": "X7MTqghjJmvG"
   },
   "source": [
    "# Other useful plots to visualize distributions\n",
    "\n",
    "- `sns.jointplot` combines a `scatterplot` with `marginal distributions`\n",
    "- barplots, using `sns.catplot` with `kind=bar` (see [documentation](https://seaborn.pydata.org/generated/seaborn.jointplot.html?highlight=jointplot#seaborn.jointplot) )\n",
    "- `sns.displot` with two variables (x,y) for bivariate distributions\n",
    "- `sns.pairplot` to visualize the relationship between all variables + their distributions in a dataframe (see [documentation](https://seaborn.pydata.org/generated/seaborn.pairplot.html#seaborn.pairplot))"
   ]
  },
  {
   "cell_type": "code",
   "execution_count": null,
   "metadata": {
    "colab": {
     "base_uri": "https://localhost:8080/",
     "height": 459
    },
    "executionInfo": {
     "elapsed": 1222,
     "status": "ok",
     "timestamp": 1664977085849,
     "user": {
      "displayName": "Dominik Kraft",
      "userId": "18275469635399983658"
     },
     "user_tz": -120
    },
    "id": "2ke7Dp-IKqkJ",
    "outputId": "80b11cbf-6333-4882-b0e0-1d201481501b"
   },
   "outputs": [],
   "source": [
    "sns.jointplot(data=df, x=\"bill_length_mm\", y=\"body_mass_g\", hue=\"sex\", palette=\"coolwarm\")"
   ]
  },
  {
   "cell_type": "markdown",
   "metadata": {},
   "source": [
    "Using `pairplot`, recreate the following figure - and don't worry. It is really easy and quick:\n",
    "\n",
    "![alt](figures/day2-17.png)"
   ]
  },
  {
   "cell_type": "code",
   "execution_count": null,
   "metadata": {
    "colab": {
     "base_uri": "https://localhost:8080/",
     "height": 744
    },
    "executionInfo": {
     "elapsed": 10688,
     "status": "ok",
     "timestamp": 1664977084635,
     "user": {
      "displayName": "Dominik Kraft",
      "userId": "18275469635399983658"
     },
     "user_tz": -120
    },
    "id": "m_e4aDWsKdbJ",
    "outputId": "1d40719a-099a-49a7-db92-8e640986600b"
   },
   "outputs": [],
   "source": [
    "sns.pairplot(df, hue=\"species\") #try to incorporate species again"
   ]
  },
  {
   "cell_type": "code",
   "execution_count": null,
   "metadata": {
    "executionInfo": {
     "elapsed": 34,
     "status": "ok",
     "timestamp": 1664977085871,
     "user": {
      "displayName": "Dominik Kraft",
      "userId": "18275469635399983658"
     },
     "user_tz": -120
    },
    "id": "_ECyk4-LMu1v"
   },
   "outputs": [],
   "source": []
  }
 ],
 "metadata": {
  "colab": {
   "authorship_tag": "ABX9TyMmFwDXuJVlnk0fuR+O4mZP",
   "collapsed_sections": [],
   "provenance": []
  },
  "kernelspec": {
   "display_name": "Python 3 (ipykernel)",
   "language": "python",
   "name": "python3"
  },
  "language_info": {
   "codemirror_mode": {
    "name": "ipython",
    "version": 3
   },
   "file_extension": ".py",
   "mimetype": "text/x-python",
   "name": "python",
   "nbconvert_exporter": "python",
   "pygments_lexer": "ipython3",
   "version": "3.9.17"
  }
 },
 "nbformat": 4,
 "nbformat_minor": 4
}
