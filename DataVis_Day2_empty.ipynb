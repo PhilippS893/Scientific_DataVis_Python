{
 "cells": [
  {
   "cell_type": "code",
   "execution_count": null,
   "metadata": {
    "id": "cak6NVFZ7p7q"
   },
   "outputs": [],
   "source": [
    "# importing packages\n",
    "import numpy as np\n",
    "import pandas as pd\n",
    "import seaborn as sns\n",
    "\n",
    "import matplotlib.pyplot as plt\n",
    "%matplotlib inline "
   ]
  },
  {
   "cell_type": "code",
   "execution_count": null,
   "metadata": {
    "colab": {
     "base_uri": "https://localhost:8080/"
    },
    "id": "oxDv4UK97wD3",
    "outputId": "4b65d7b6-9673-4cbb-b711-1fccb1135ddb"
   },
   "outputs": [],
   "source": [
    "df = sns.load_dataset(\"penguins\")\n",
    "df = df.dropna(axis=\"index\", how=\"any\", inplace=False) #dropping rows that contain >= 1 missing value \n",
    "df.isnull().sum() #sanity check\n",
    "df.shape\n"
   ]
  },
  {
   "cell_type": "markdown",
   "metadata": {
    "id": "Kd636r3lJHZ4"
   },
   "source": [
    "# Visualizing distributions of our 🐧 data \n",
    "\n",
    "For today, we will mostly stick to `seaborn` and its [distributions module](https://seaborn.pydata.org/api.html#distribution-api). By plotting the distribution of our data, we can get quick answers to many questions: \n",
    "- what is the central tendecy of our data\n",
    "- are my values in a plausible (or expected) range\n",
    "- is my data skewed or contains outliers\n",
    ".. and many more.\n",
    "\n"
   ]
  },
  {
   "cell_type": "markdown",
   "metadata": {
    "id": "lVf71R4oJIOT"
   },
   "source": [
    "## Plotting univariate distributions \n",
    "\n",
    "Lets use an `histogram` to visualize the distribution of our penguins flipper length. `Seaborn` offers multiple solutions, with `sns.displot` being one of them. \n",
    "\n",
    "Note: The bin size is usually automatically set for you based on the variance and number of observations - however this might sometimes lead to non-optimal results, eg. if you only have a relatively small number of observations per instance. To change that, we can either use the `bins=xx`or `binwidth=xx` parameter.\n",
    "\n",
    "Use the `sns.displot` function to create the figures below. See which number you need to input to `bins` to get the same results. \n",
    "\n",
    "|Figure 1 | Figure 2|\n",
    "|-|-|\n",
    "![alt](figures/day2-1.png) | ![alt](figures/day2-2.png)"
   ]
  },
  {
   "cell_type": "code",
   "execution_count": null,
   "metadata": {
    "colab": {
     "base_uri": "https://localhost:8080/",
     "height": 387
    },
    "id": "0gCi0PORDno8",
    "outputId": "cd79b11f-84cd-4f90-c26a-484dee9cea99"
   },
   "outputs": [],
   "source": [
    "... #uses the same code as sns.histplot()"
   ]
  },
  {
   "cell_type": "markdown",
   "metadata": {
    "id": "HEpioc9aMIEf"
   },
   "source": [
    "Lets try to break down the `flipper_length` distribution by `species`. \n",
    "\n",
    "Try to recreate the following graphs:\n",
    "Note: Figure 3 may not make much sense, it is merely for repetition.\n",
    "\n",
    "|Figure 1 | Figure 2 | Figure 3|\n",
    "|-|-|-|\n",
    "![alt](figures/day2-3.png) | ![alt](figures/day2-4.png) | ![alt](figures/day2-5.png) |"
   ]
  },
  {
   "cell_type": "code",
   "execution_count": null,
   "metadata": {
    "colab": {
     "base_uri": "https://localhost:8080/",
     "height": 387
    },
    "id": "GmSmeZ-buA0Z",
    "outputId": "2d891339-303b-4072-8232-60b1f741ba78"
   },
   "outputs": [],
   "source": [
    "#figure 1\n",
    "sns.displot(...)\n",
    "\n",
    "#figure 2\n",
    "\n",
    "#figure 3\n"
   ]
  },
  {
   "cell_type": "markdown",
   "metadata": {
    "id": "v-rYqmqduEKj"
   },
   "source": [
    "Sometimes, these visualizations make it difficult to disentangle each distribution. \n",
    "`Seaborn` offers seversal solutions to potentially overcome this:\n",
    "- use `element=\"step\"` to change to a step-plot\n",
    "- use `multiple=\"stack\"` to stack multiple distributions\n",
    "- use `multiple=\"dodge\"` to create non-overlapping bars.\n",
    "\n",
    "Try some of these arguments and think about the pros and cons of each option!\n",
    "\n",
    "\n",
    "### ❗Note❗\n",
    "If your groups have unequal number of observations, comparing distributions might not be ideal. For that `seaborn` offers different ways to normalize you data by using the `stat` argument. \n",
    "\n",
    "By default, however, the normalization is applied to the entire distribution, so this simply rescales the height of the bars. By setting `common_norm=False`, each subset will be normalized independently\n",
    "\n",
    "Try to recreate the following graphs (both use the `element=\"step\"` argument):\n",
    "\n",
    "|Figure 1 | Figure 2 |\n",
    "|-|-|\n",
    "![alt](figures/day2-6.png) | ![alt](figures/day2-7.png) |"
   ]
  },
  {
   "cell_type": "code",
   "execution_count": null,
   "metadata": {
    "colab": {
     "base_uri": "https://localhost:8080/",
     "height": 387
    },
    "id": "gYP8V6kzKFv6",
    "outputId": "24e00894-abae-450d-9787-c600428a38d5"
   },
   "outputs": [],
   "source": [
    "... #step plot"
   ]
  },
  {
   "cell_type": "markdown",
   "metadata": {},
   "source": [
    "Now try to recreate the figures below using `multiple=...`:\n",
    "\n",
    "|Figure 1 | Figure 2 |\n",
    "|-|-|\n",
    "![alt](figures/day2-8.png) | ![alt](figures/day2-9.png) |"
   ]
  },
  {
   "cell_type": "code",
   "execution_count": null,
   "metadata": {
    "colab": {
     "base_uri": "https://localhost:8080/",
     "height": 387
    },
    "id": "QsGJjJAUKGD0",
    "outputId": "a866b9f4-3a53-400d-93bc-b2f300f8a82b"
   },
   "outputs": [],
   "source": [
    "... #stack bins onto each other"
   ]
  },
  {
   "cell_type": "code",
   "execution_count": null,
   "metadata": {
    "colab": {
     "base_uri": "https://localhost:8080/",
     "height": 387
    },
    "id": "tOaSHV-6KGfW",
    "outputId": "136e9a86-cc96-4ae7-c789-2eb86f7d2ddb"
   },
   "outputs": [],
   "source": [
    "... #no overlap, works fine for a small number of levels"
   ]
  },
  {
   "cell_type": "markdown",
   "metadata": {
    "id": "fHpltaVwub7F"
   },
   "source": [
    "# Kernel Density estimation\n",
    "\n",
    "A different way to plot distributions are `KDE Plots`. Instead of using discrete bins, `KDE` smoothes the observations with a `Gaussian Kernel` and thus produces a continous estimation.\n",
    "\n",
    "Conveniently, `sns.displot` can be also used to create `KDE` plots by setting the `kind` parameter to `kde`.\n",
    "The smoothing bandwith relies on the `bw_adjust`, where one needs to find a good balance between under- and oversmoothing.\n",
    "\n",
    "\n",
    "### ❗Note❗\n",
    "- `KDE` plots might not be suitable for variables that are naturally bounded, e.g. a `bill at the restaurant` is usually > 0€. For this situation, the tails of the Gaussian might expand to < 0, which simply does not reflect the data properly. The `cut` and `clip` parameters can be used to control the extent of the curve, but datasets that have many observations close to a natural boundary may be better served by a different visualization method.\n",
    "- Moreover `KDE` always returns a smooth curve, even if ther underlying data is not."
   ]
  },
  {
   "cell_type": "code",
   "execution_count": null,
   "metadata": {
    "colab": {
     "base_uri": "https://localhost:8080/",
     "height": 387
    },
    "id": "AlpotW9UyUlw",
    "outputId": "d9a23063-7d5a-47fc-e572-a18135f24d64"
   },
   "outputs": [],
   "source": [
    "sns.displot(df, x=\"flipper_length_mm\", ...)\n",
    "\n",
    "### try to play around with the bw_adjust parameter and see how it affects the bimodality"
   ]
  },
  {
   "cell_type": "markdown",
   "metadata": {
    "id": "iQ0kMIPvzhEC"
   },
   "source": [
    "Since we are using the same `sns.displot` functionality, we can use all features already described above, for example, `stacked KDE plots`.\n",
    "Try recreating this figure:\n",
    "![alt](figures/day2-10.png)"
   ]
  },
  {
   "cell_type": "code",
   "execution_count": null,
   "metadata": {
    "colab": {
     "base_uri": "https://localhost:8080/",
     "height": 387
    },
    "id": "jNko0T4u1VgD",
    "outputId": "b9861f6f-caac-478c-da3a-42241fa3985d"
   },
   "outputs": [],
   "source": [
    "... # try using fill=True instead of multiple=\"stack\""
   ]
  },
  {
   "cell_type": "markdown",
   "metadata": {},
   "source": [
    "Now, we've used the `displot` function at the moment and used the `kind=...` argument to switch between different types.\n",
    "As mentioned above you can also use the `histplot` function. The `histplot` function has the advantage, that you can overlay the `kde` _onto_ the histogram itself.\n",
    "Using `histplot` try to recreate the following figures:\n",
    "\n",
    "|Figure 1 | Figure 2 |\n",
    "|-|-|\n",
    "![alt](figures/day2-11.png) | ![alt](figures/day2-12.png) |"
   ]
  },
  {
   "cell_type": "code",
   "execution_count": null,
   "metadata": {},
   "outputs": [],
   "source": [
    "# left plot\n",
    "plt.figure(figsize=(4,4))\n",
    "sns.histplot(...)\n",
    "\n",
    "# right plot: you get more \"detail\" with \"bins\"\n",
    "plt.figure(figsize=(4,4))\n",
    "sns.histplot(...)"
   ]
  },
  {
   "cell_type": "markdown",
   "metadata": {
    "id": "i3KjDe6o1XBm"
   },
   "source": [
    "# Plotting distributions of categorical data \n",
    "\n",
    "Beyond visualizing univariate distributions, we are often also interested whether distributions are different between groups. Comparing distributions can be achieved using for example:\n",
    "- boxplots\n",
    "- violinplots\n",
    "\n",
    "For that, we can use the `sns.catplot` or `sns.boxplot` functionality. You'll also need another argument for the plot: `palette`. The colors for the following figure are within the `vlag` palette. "
   ]
  },
  {
   "cell_type": "markdown",
   "metadata": {
    "id": "kw08XQpv4y2Z"
   },
   "source": [
    "First lets boxplot our 🐧s flipper length as a function of species:\n",
    "\n",
    "This is what your figure should look like:\n",
    "\n",
    "![alt](figures/day2-13.png)"
   ]
  },
  {
   "cell_type": "code",
   "execution_count": null,
   "metadata": {
    "colab": {
     "base_uri": "https://localhost:8080/",
     "height": 387
    },
    "id": "j459meLG4jUt",
    "outputId": "516073df-37c1-4c01-a4c2-83e12d2ae18e"
   },
   "outputs": [],
   "source": [
    "... # equivalent to sns.boxplot(data=df, x=\"species\", y=\"flipper_length_mm\", palette=\"vlag\") "
   ]
  },
  {
   "cell_type": "markdown",
   "metadata": {
    "id": "rCpEKoan4l9n"
   },
   "source": [
    "❗However, since `boxplots` show summary stats, some interesting features of the data might be hidden. See for example how different data leads to the same `boxplot`❗\n",
    "\n",
    "See here: \n",
    "- https://stats.stackexchange.com/questions/135737/will-two-distributions-with-identical-5-number-summaries-always-have-the-same-sh\n",
    "- https://en.wikipedia.org/wiki/Anscombe%27s_quartet\n",
    "\n",
    "To alleviate this problem we can simply overlay single datapoints on the box plots. Like this: \n",
    "\n",
    "![alt](figures/day2-14.png)\n",
    "\n",
    "This can be easily achived by using the `sns.stripplot` function:"
   ]
  },
  {
   "cell_type": "code",
   "execution_count": null,
   "metadata": {
    "colab": {
     "base_uri": "https://localhost:8080/",
     "height": 387
    },
    "id": "ePDEFIi4A55W",
    "outputId": "cfdcafce-be23-4c67-fa9e-19465648339b"
   },
   "outputs": [],
   "source": [
    "...\n",
    "... \n",
    "#try to overlay our boxplot with our data points in black "
   ]
  },
  {
   "cell_type": "markdown",
   "metadata": {},
   "source": [
    "But what if we have categories within categories? We have the `sex` category for each species. Using `hue` again, we can separate our plot even further. What about the stripplot then though. Can you create a figure like the one below? \n",
    "\n",
    "![alt](figures/day2-15.png)\n",
    "\n",
    "You'll probably run into something weird at first. The individual datapoints seem to be mixed. Curious!\n",
    "Hint: check the help (`sns.stripplot?`). Can you find an argument that helps you in separating male and female dots?\n",
    "\n",
    "Another hint: You'll likely have males and females twice in your _legend_. Check if you can find out what the `legend` argument does in `sns.stripplot`."
   ]
  },
  {
   "cell_type": "code",
   "execution_count": null,
   "metadata": {},
   "outputs": [],
   "source": [
    "...\n",
    "... "
   ]
  },
  {
   "cell_type": "markdown",
   "metadata": {
    "id": "9dM89o-mBZfa"
   },
   "source": [
    "Seeing the individual data points is already much better, but we can also go one step further and combine a `boxplot` with a `KDE` and use `sns.violinplot`.\n",
    "Now using `sns.catplot` comes in handy, as we only need to adjust the `kind` parameter.\n",
    "\n",
    "The `violinpot` shows the distribution of the data, as well as the whisker and quartiles of the boxplot inside the violin. Keep in mind, that since the `violinplot` also contains a `KDE`, you might also want to check additional parameters, such as the bandwith (ie `bw`)."
   ]
  },
  {
   "cell_type": "code",
   "execution_count": null,
   "metadata": {
    "colab": {
     "base_uri": "https://localhost:8080/",
     "height": 387
    },
    "id": "Rl-UjSYiCD5M",
    "outputId": "d871f3e1-be1c-4d04-f91e-28410f9cb0d5"
   },
   "outputs": [],
   "source": [
    "... # see also sns.violinplot()\n",
    "# try to adjust the bw parameter and see how it affects your violins\n"
   ]
  },
  {
   "cell_type": "markdown",
   "metadata": {
    "id": "1OHBTqPJCQvN"
   },
   "source": [
    "Now try to plot the `violinplot` again but with `x- and y-axis` being switched. Additionally try to also incorporate the `sex` information and find a way that you will end up having 3 and not 6 (3 species * 2 sex) violins. \n",
    "\n",
    "Your plot should look something like this (using `viridis_r` as your `palette`):\n",
    "\n",
    "![alt](figures/day2-16.png)"
   ]
  },
  {
   "cell_type": "code",
   "execution_count": null,
   "metadata": {
    "colab": {
     "base_uri": "https://localhost:8080/",
     "height": 603
    },
    "id": "Zxul3bXiEDPw",
    "outputId": "b6ef35ea-3045-48dc-ae2d-d67ace8b1805"
   },
   "outputs": [],
   "source": [
    "...\n",
    "...\n"
   ]
  },
  {
   "cell_type": "markdown",
   "metadata": {
    "id": "5YDpnH4hGNRl"
   },
   "source": [
    "### Note\n",
    "Using `sns.catplot()` with different `kind` parameters come with a certain advantage, ie., we can very easily introduce additional variables to split our data and investigate higher-order relationship. Yesterday we did the same thing using `sns.lmplot` in which we split the data for `species` and within each species stratified our plot for `sex`.\n",
    "\n",
    "This is called a [Facetgrid](https://seaborn.pydata.org/generated/seaborn.FacetGrid.html#seaborn.FacetGrid) and allows you to plot something like: "
   ]
  },
  {
   "cell_type": "code",
   "execution_count": null,
   "metadata": {
    "colab": {
     "base_uri": "https://localhost:8080/",
     "height": 334
    },
    "id": "3IAScCPXJbZa",
    "outputId": "a847263f-429d-43b5-e966-7649ddfc3df7"
   },
   "outputs": [],
   "source": [
    "...\n",
    "...\n",
    "\n",
    "#Note that Facetgrids can be sized with the height and aspect parameter!"
   ]
  },
  {
   "cell_type": "markdown",
   "metadata": {
    "id": "X7MTqghjJmvG"
   },
   "source": [
    "# Other useful plots to visualize distributions\n",
    "\n",
    "- `sns.jointplot` combines a `scatterplot` with `marginal distributions`\n",
    "- barplots, using `sns.catplot` with `kind=bar` (see [documentation](https://seaborn.pydata.org/generated/seaborn.jointplot.html?highlight=jointplot#seaborn.jointplot) )\n",
    "- `sns.displot` with two variables (x,y) for bivariate distributions\n",
    "- `sns.pairplot` to visualize the relationship between all variables + their distributions in a dataframe (see [documentation](https://seaborn.pydata.org/generated/seaborn.pairplot.html#seaborn.pairplot))"
   ]
  },
  {
   "cell_type": "code",
   "execution_count": null,
   "metadata": {
    "colab": {
     "base_uri": "https://localhost:8080/",
     "height": 459
    },
    "id": "2ke7Dp-IKqkJ",
    "outputId": "96a92963-a2d4-4248-e498-d502625a6dfe"
   },
   "outputs": [],
   "source": [
    "... # jointplot with hue=sex"
   ]
  },
  {
   "cell_type": "markdown",
   "metadata": {},
   "source": [
    "Using `pairplot`, recreate the following figure - and don't worry. It is really easy and quick:\n",
    "\n",
    "![alt](figures/day2-17.png)"
   ]
  },
  {
   "cell_type": "code",
   "execution_count": null,
   "metadata": {
    "colab": {
     "base_uri": "https://localhost:8080/",
     "height": 744
    },
    "id": "m_e4aDWsKdbJ",
    "outputId": "d3f6fa26-842b-477d-a726-34538863bfc3"
   },
   "outputs": [],
   "source": [
    "... # pairplot + try to incorporate species again"
   ]
  },
  {
   "cell_type": "code",
   "execution_count": null,
   "metadata": {
    "id": "_ECyk4-LMu1v"
   },
   "outputs": [],
   "source": []
  }
 ],
 "metadata": {
  "colab": {
   "collapsed_sections": [],
   "provenance": []
  },
  "kernelspec": {
   "display_name": "Python 3 (ipykernel)",
   "language": "python",
   "name": "python3"
  },
  "language_info": {
   "codemirror_mode": {
    "name": "ipython",
    "version": 3
   },
   "file_extension": ".py",
   "mimetype": "text/x-python",
   "name": "python",
   "nbconvert_exporter": "python",
   "pygments_lexer": "ipython3",
   "version": "3.9.17"
  }
 },
 "nbformat": 4,
 "nbformat_minor": 4
}
