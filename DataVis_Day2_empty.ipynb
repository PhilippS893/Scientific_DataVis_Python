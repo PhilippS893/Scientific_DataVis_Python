{
 "cells": [
  {
   "cell_type": "code",
   "execution_count": null,
   "metadata": {
    "id": "cak6NVFZ7p7q"
   },
   "outputs": [],
   "source": [
    "# importing packages\n",
    "import numpy as np\n",
    "import pandas as pd\n",
    "import seaborn as sns\n",
    "\n",
    "import matplotlib.pyplot as plt\n",
    "%matplotlib inline "
   ]
  },
  {
   "cell_type": "code",
   "execution_count": null,
   "metadata": {
    "colab": {
     "base_uri": "https://localhost:8080/"
    },
    "id": "oxDv4UK97wD3",
    "outputId": "4b65d7b6-9673-4cbb-b711-1fccb1135ddb"
   },
   "outputs": [],
   "source": [
    "df = sns.load_dataset(\"penguins\")\n",
    "\n",
    "df.shape\n"
   ]
  },
  {
   "cell_type": "markdown",
   "metadata": {
    "id": "Kd636r3lJHZ4"
   },
   "source": [
    "# Visualizing distributions of our 🐧 data \n",
    "\n",
    "For today, we will mostly stick to `seaborn` and its [distributions module](https://seaborn.pydata.org/api.html#distribution-api). By plotting the distribution of our data, we can get quick answers to many questions: \n",
    "- what is the central tendecy of our data\n",
    "- are my values in a plausible (or expected) range\n",
    "- is my data skewed or contains outliers\n",
    ".. and many more.\n",
    "\n"
   ]
  },
  {
   "cell_type": "markdown",
   "metadata": {
    "id": "lVf71R4oJIOT"
   },
   "source": [
    "## Plotting univariate distributions \n",
    "\n",
    "Lets use an `histogram` to visualize the distribution of our penguins flipper length. `Seaborn` offers multiple solutions, with `sns.displot` being one of them. \n",
    "\n",
    "Note: The bin size is usually automatically set for you based on the variance and number of observations - however this might sometimes lead to non-optimal results, eg. if you only have a relatively small number of observations per instance. To change that, we can either use the `bins=xx`or `binwidth=xx` parameter."
   ]
  },
  {
   "cell_type": "code",
   "execution_count": null,
   "metadata": {
    "colab": {
     "base_uri": "https://localhost:8080/",
     "height": 387
    },
    "id": "0gCi0PORDno8",
    "outputId": "cd79b11f-84cd-4f90-c26a-484dee9cea99"
   },
   "outputs": [],
   "source": [
    "... #uses the same code as sns.histplot()"
   ]
  },
  {
   "cell_type": "markdown",
   "metadata": {
    "id": "HEpioc9aMIEf"
   },
   "source": [
    "Lets try to break down the `flipper_length` distribution by `species`."
   ]
  },
  {
   "cell_type": "code",
   "execution_count": null,
   "metadata": {
    "colab": {
     "base_uri": "https://localhost:8080/",
     "height": 387
    },
    "id": "GmSmeZ-buA0Z",
    "outputId": "2d891339-303b-4072-8232-60b1f741ba78"
   },
   "outputs": [],
   "source": [
    "..."
   ]
  },
  {
   "cell_type": "markdown",
   "metadata": {
    "id": "v-rYqmqduEKj"
   },
   "source": [
    "Sometimes, these visualization makes it difficult to disentangle each distribution. \n",
    "`Seaborn` offer seversal solutions to potentially overcome this:\n",
    "- use `element=\"step\"` to change to a step-plot\n",
    "- use `multiple=\"stack\"` to stack multiple distributions\n",
    "- use `multiple=\"dodge\"` to create non-overlapping bars.\n",
    "\n",
    "Try some of these arguments and think about the pros and cons of each option!\n",
    "\n",
    "\n",
    "###❗Note❗\n",
    "If your groups have unequal number of observations, comparing distributions might not be ideal. For that `seaborn` offers different ways to normalize you data by using the `stat` argument. \n"
   ]
  },
  {
   "cell_type": "code",
   "execution_count": null,
   "metadata": {
    "colab": {
     "base_uri": "https://localhost:8080/",
     "height": 387
    },
    "id": "gYP8V6kzKFv6",
    "outputId": "24e00894-abae-450d-9787-c600428a38d5"
   },
   "outputs": [],
   "source": [
    "... #step plot"
   ]
  },
  {
   "cell_type": "code",
   "execution_count": null,
   "metadata": {
    "colab": {
     "base_uri": "https://localhost:8080/",
     "height": 387
    },
    "id": "QsGJjJAUKGD0",
    "outputId": "a866b9f4-3a53-400d-93bc-b2f300f8a82b"
   },
   "outputs": [],
   "source": [
    "... #stack bins onto each other"
   ]
  },
  {
   "cell_type": "code",
   "execution_count": null,
   "metadata": {
    "colab": {
     "base_uri": "https://localhost:8080/",
     "height": 387
    },
    "id": "tOaSHV-6KGfW",
    "outputId": "136e9a86-cc96-4ae7-c789-2eb86f7d2ddb"
   },
   "outputs": [],
   "source": [
    "...  #no overlap, works fine for a small number of levels"
   ]
  },
  {
   "cell_type": "markdown",
   "metadata": {
    "id": "fHpltaVwub7F"
   },
   "source": [
    "# Kernel Density estimation\n",
    "\n",
    "A different way to plot distributions are `KDE Plots`. Instead of using discrete bins, `KDE` smoothes the observations with a `Gaussian Kernel` and thus produces a continous estimation.\n",
    "\n",
    "Conveniently, `sns.displot` can be also used to create `KDE` plots by setting the `kind` parameter to `kde`.\n",
    "The smoothing bandwith relies on the `bw_adjust`, where one needs to find a good balance between under- and oversmoothing.\n",
    "\n",
    "\n",
    "### ❗Note❗\n",
    "- `KDE` plots might not be suitable for variables that are naturally bounded, e.g. a `bill at the restaurant` is usually > 0€. For this situation, the tails of the Gaussian might expand to < 0, which simply does not reflect the data properly. \n",
    "- Moreover `KDE` always returns a smooth curve, even if ther underlying data is not."
   ]
  },
  {
   "cell_type": "code",
   "execution_count": null,
   "metadata": {
    "colab": {
     "base_uri": "https://localhost:8080/",
     "height": 387
    },
    "id": "AlpotW9UyUlw",
    "outputId": "d9a23063-7d5a-47fc-e572-a18135f24d64"
   },
   "outputs": [],
   "source": [
    "sns.displot(df, x=\"flipper_length_mm\", ...)\n",
    "\n",
    "### try to play around with the bw_adjust parameter and see how it affects the bimodality"
   ]
  },
  {
   "cell_type": "markdown",
   "metadata": {
    "id": "iQ0kMIPvzhEC"
   },
   "source": [
    "Since we are using the same `sns.displot` functionality, we can use all features already described above, for example, `stacked KDE plots`"
   ]
  },
  {
   "cell_type": "code",
   "execution_count": null,
   "metadata": {
    "colab": {
     "base_uri": "https://localhost:8080/",
     "height": 387
    },
    "id": "jNko0T4u1VgD",
    "outputId": "b9861f6f-caac-478c-da3a-42241fa3985d"
   },
   "outputs": [],
   "source": [
    "... # try using fill=True instead of multiple=\"stack\""
   ]
  },
  {
   "cell_type": "markdown",
   "metadata": {
    "id": "i3KjDe6o1XBm"
   },
   "source": [
    "# Plotting distributions of categorical data \n",
    "\n",
    "Beyond visualizing univariate distributions, we are often also interested whether distributions are different between groups. Comparing distributions can be achieved using for example:\n",
    "- boxplots\n",
    "- violinplots\n",
    "\n",
    "For that, we can use the `sns.catplot` functionality. "
   ]
  },
  {
   "cell_type": "markdown",
   "metadata": {
    "id": "kw08XQpv4y2Z"
   },
   "source": [
    "First lets boxplot our 🐧s flipper length as a function of species:\n",
    "\n"
   ]
  },
  {
   "cell_type": "code",
   "execution_count": null,
   "metadata": {
    "colab": {
     "base_uri": "https://localhost:8080/",
     "height": 387
    },
    "id": "j459meLG4jUt",
    "outputId": "516073df-37c1-4c01-a4c2-83e12d2ae18e"
   },
   "outputs": [],
   "source": [
    "... # equivalent to sns.boxplot(data=df, x=\"species\", y=\"flipper_length_mm\", palette=\"vlag\") "
   ]
  },
  {
   "cell_type": "markdown",
   "metadata": {
    "id": "rCpEKoan4l9n"
   },
   "source": [
    "❗However, since `boxplots` show summary stats, some interesting features of the data might be hidden. See for example how different data leads to the same `boxplot`❗\n",
    "\n",
    "\n",
    "\n",
    "![](https://camo.githubusercontent.com/0f76c6960f20881ca05fbaeecc14c0739db2887cc5903d4093a592782ee5d981/68747470733a2f2f616e6e616c6c6f79642e66696c65732e776f726470726573732e636f6d2f323031392f30322f626f78706c6f74732e676966)\n",
    "\n",
    "\n",
    "To overcome this, we could for example overlay our boxplots with the data, using `sns.stripplot`, which can be done just as easy as:"
   ]
  },
  {
   "cell_type": "code",
   "execution_count": null,
   "metadata": {
    "colab": {
     "base_uri": "https://localhost:8080/",
     "height": 387
    },
    "id": "ePDEFIi4A55W",
    "outputId": "cfdcafce-be23-4c67-fa9e-19465648339b"
   },
   "outputs": [],
   "source": [
    "...\n",
    "... \n",
    "#try to overlay our boxplot with our data points in black "
   ]
  },
  {
   "cell_type": "markdown",
   "metadata": {
    "id": "9dM89o-mBZfa"
   },
   "source": [
    "Seeing the individual data points is already much better, but we can also go one step further and combine a `boxplot` with a `KDE` and use `sns.violinplot`.\n",
    "Now using `sns.catplot` comes in handy, as we only need to adjust the `kind` parameter.\n",
    "\n",
    "The `violinpot` shows the distribution of the data, as well as the whisker and quartiles of the boxplot inside the violin. Keep in mind, that since the `violinplot` also contains a `KDE`, you might also want to check additional parameters, such as the bandwith (ie `bw`)."
   ]
  },
  {
   "cell_type": "code",
   "execution_count": null,
   "metadata": {
    "colab": {
     "base_uri": "https://localhost:8080/",
     "height": 387
    },
    "id": "Rl-UjSYiCD5M",
    "outputId": "d871f3e1-be1c-4d04-f91e-28410f9cb0d5"
   },
   "outputs": [],
   "source": [
    "... # see also sns.violinplot()\n",
    "# try to adjust the bw parameter and see how it affects your violins\n"
   ]
  },
  {
   "cell_type": "markdown",
   "metadata": {
    "id": "1OHBTqPJCQvN"
   },
   "source": [
    "Now try to plot the `violinplot` again but with `x- and y-axis` being switched. Additionally try to also incorporate the `sex` information and find a way that you will end up having 3 and not 6 (3 species * 2 sex) violins. "
   ]
  },
  {
   "cell_type": "code",
   "execution_count": null,
   "metadata": {
    "colab": {
     "base_uri": "https://localhost:8080/",
     "height": 603
    },
    "id": "Zxul3bXiEDPw",
    "outputId": "b6ef35ea-3045-48dc-ae2d-d67ace8b1805"
   },
   "outputs": [],
   "source": [
    "...\n",
    "...\n"
   ]
  },
  {
   "cell_type": "markdown",
   "metadata": {
    "id": "5YDpnH4hGNRl"
   },
   "source": [
    "### Note\n",
    "Using `sns.catplot()` with different `kind` parameters come with a certain advantage, ie., we can very easily introduce additional variables to split our data and investigate higher-order relationship. Yesterday we did the same thing using `sns.lmplot` in which we split the data for `species` and within each species stratified our plot for `sex`.\n",
    "\n",
    "This is called a [Facetgrid](https://seaborn.pydata.org/generated/seaborn.FacetGrid.html#seaborn.FacetGrid) and allows you to plot something like: "
   ]
  },
  {
   "cell_type": "code",
   "execution_count": null,
   "metadata": {
    "colab": {
     "base_uri": "https://localhost:8080/",
     "height": 334
    },
    "id": "3IAScCPXJbZa",
    "outputId": "a847263f-429d-43b5-e966-7649ddfc3df7"
   },
   "outputs": [],
   "source": [
    "...\n",
    "...\n",
    "\n",
    "#Note that Facetgrids can be sized with the height and aspect parameter!"
   ]
  },
  {
   "cell_type": "markdown",
   "metadata": {
    "id": "X7MTqghjJmvG"
   },
   "source": [
    "# Other useful plots to visualize distributions\n",
    "\n",
    "- `sns.jointplot` combines a `scatterplot` with `marginal distributions`\n",
    "- barplots, using `sns.catplot` with `kind=bar` (see [documentation](https://seaborn.pydata.org/generated/seaborn.jointplot.html?highlight=jointplot#seaborn.jointplot) )\n",
    "- `sns.displot` with two variables (x,y) for bivariate distributions\n",
    "- `sns.pairplot` to visualize the relationship between all variables + their distributions in a dataframe (see [documentation](https://seaborn.pydata.org/generated/seaborn.pairplot.html#seaborn.pairplot))"
   ]
  },
  {
   "cell_type": "code",
   "execution_count": null,
   "metadata": {
    "colab": {
     "base_uri": "https://localhost:8080/",
     "height": 744
    },
    "id": "m_e4aDWsKdbJ",
    "outputId": "d3f6fa26-842b-477d-a726-34538863bfc3"
   },
   "outputs": [],
   "source": [
    "... # pairplot + try to incorporate species again"
   ]
  },
  {
   "cell_type": "code",
   "execution_count": null,
   "metadata": {
    "colab": {
     "base_uri": "https://localhost:8080/",
     "height": 459
    },
    "id": "2ke7Dp-IKqkJ",
    "outputId": "96a92963-a2d4-4248-e498-d502625a6dfe"
   },
   "outputs": [],
   "source": [
    "... # jointplot with hue=sex"
   ]
  },
  {
   "cell_type": "code",
   "execution_count": null,
   "metadata": {
    "id": "_ECyk4-LMu1v"
   },
   "outputs": [],
   "source": []
  }
 ],
 "metadata": {
  "colab": {
   "collapsed_sections": [],
   "provenance": []
  },
  "kernelspec": {
   "display_name": "Python 3",
   "language": "python",
   "name": "python3"
  },
  "language_info": {
   "codemirror_mode": {
    "name": "ipython",
    "version": 3
   },
   "file_extension": ".py",
   "mimetype": "text/x-python",
   "name": "python",
   "nbconvert_exporter": "python",
   "pygments_lexer": "ipython3",
   "version": "3.7.6"
  }
 },
 "nbformat": 4,
 "nbformat_minor": 1
}
