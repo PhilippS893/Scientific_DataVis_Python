{
 "cells": [
  {
   "cell_type": "code",
   "execution_count": null,
   "metadata": {
    "id": "Xm4ybHu3eYRR"
   },
   "outputs": [],
   "source": [
    "# importing packages\n",
    "import numpy as np\n",
    "import pandas as pd\n",
    "import seaborn as sns\n",
    "\n",
    "import matplotlib.pyplot as plt\n",
    "%matplotlib inline "
   ]
  },
  {
   "cell_type": "code",
   "execution_count": null,
   "metadata": {
    "colab": {
     "base_uri": "https://localhost:8080/"
    },
    "id": "g2cYFs7ZfMp6",
    "outputId": "fc72a1b3-dea4-407d-bfc6-a581d1facd10"
   },
   "outputs": [],
   "source": [
    "df = sns.load_dataset(\"penguins\")\n",
    "\n",
    "df.shape"
   ]
  },
  {
   "cell_type": "markdown",
   "metadata": {
    "id": "rjcVHjyufOvZ"
   },
   "source": [
    "# Heatmaps \n",
    "\n",
    "In many areas, we usually end up having lots of variables and interdependencies that we might be interested in. On `Day 1` we used `pandas` and its `.corr()` functionality to derive a `correlation matrix` from our 🐧 datatable. \n",
    "\n",
    "\n",
    "If we want to visualize those correlations, we can for example use `heatmaps`.\n",
    "\n",
    "[Heatmaps in Seaborn](https://seaborn.pydata.org/generated/seaborn.heatmap.html?highlight=heatmap#seaborn.heatmap) take rectangular data and return a color coded matrix, ie. we can directly use the output of `df.corr()` as input in `sns.heatmap()`\n",
    "\n"
   ]
  },
  {
   "cell_type": "code",
   "execution_count": null,
   "metadata": {
    "colab": {
     "base_uri": "https://localhost:8080/",
     "height": 325
    },
    "id": "qxIdDpJ88RUt",
    "outputId": "7acae199-01e2-4606-b4c4-c8c17adb0217"
   },
   "outputs": [],
   "source": [
    "plt.figure(figsize=(5,5))\n",
    "... # no xtickslabel, since the correlation matrix is symmetric"
   ]
  },
  {
   "cell_type": "markdown",
   "metadata": {
    "id": "nFqJvBX08bXc"
   },
   "source": [
    "This looks nice, however the colormap `crest` might not be an ideal choice, as our data contains `positive` and `negative` values, we better use a `diverging` color palette."
   ]
  },
  {
   "cell_type": "code",
   "execution_count": null,
   "metadata": {
    "colab": {
     "base_uri": "https://localhost:8080/",
     "height": 325
    },
    "id": "0nmUGv3l-aml",
    "outputId": "a982fbdd-be2c-4e6a-8a0e-609abf5dd12e"
   },
   "outputs": [],
   "source": [
    "plt.figure(figsize=(8,5))\n",
    "sns.heatmap(df.corr(), xticklabels=False, ..., center=0, square=True) # try to find a diverging colorpalette for seaborn and set center=0"
   ]
  },
  {
   "cell_type": "markdown",
   "metadata": {
    "id": "lW4tjyA5-czF"
   },
   "source": [
    "This is already very informative, but sometimes it is even better to `annotate` heatmaps for example with the `correlation values`.\n",
    "\n",
    "Try to update our `heatmap` from above and annotate the correlation values rounded to 3 decimals. "
   ]
  },
  {
   "cell_type": "code",
   "execution_count": null,
   "metadata": {
    "colab": {
     "base_uri": "https://localhost:8080/",
     "height": 325
    },
    "id": "DL2aEqqDELeB",
    "outputId": "51c7e1de-1b85-4976-eba7-05bd17c831f8"
   },
   "outputs": [],
   "source": [
    "plt.figure(figsize=(8,5))\n",
    "...\n"
   ]
  },
  {
   "cell_type": "markdown",
   "metadata": {
    "id": "dxmgqKEmFSI_"
   },
   "source": [
    "If you want to change the `fontcolor`, `fontsize`, `orientation` etc of your annotations, check the \n",
    "`annot_kws` keyword arguments for [matplotlib.axes.Axes.text()](https://matplotlib.org/stable/api/_as_gen/matplotlib.axes.Axes.text.html#matplotlib.axes.Axes.text), or [here](https://stackoverflow.com/questions/72168450/changing-annotation-text-color-in-seaborn-heat-map). \n",
    "\n",
    "\n",
    "-----\n",
    "\n",
    "------\n",
    "\n",
    "For the 🐧 dataframe our `y-ticks-labels` are perfectly aligned, but sometimes, especially if you have a lot of variables, your labels might get messed up. For this it is often useful to `rotate` and `align` your tick-labels manually. For that we can for example directly use the `pyplot` interface, again proving that we can have full control about pretty much all objects in our plot."
   ]
  },
  {
   "cell_type": "code",
   "execution_count": null,
   "metadata": {
    "colab": {
     "base_uri": "https://localhost:8080/",
     "height": 325
    },
    "id": "vqQQRg3OIyMH",
    "outputId": "95a23a6b-61d1-42e4-b6ec-1986dc97e228"
   },
   "outputs": [],
   "source": [
    "plt.figure(figsize=(8,5))\n",
    "...\n",
    "\n",
    "... # ha= horizontal alignment, va= vertical alignment "
   ]
  },
  {
   "cell_type": "markdown",
   "metadata": {
    "id": "QQkEXeyuM4lo"
   },
   "source": [
    "A nice extensions to `heatmaps` are `clustermaps`, which add a `hierarchical clustering` to your heatmap and thus rearranges your cells to clusters. Compare the `clustermap` result to the heatmap one above! For more info on the clustermap, see e.g., [here](https://pythontic.com/visualization/seaborn/clustermap)\n",
    "\n"
   ]
  },
  {
   "cell_type": "code",
   "execution_count": null,
   "metadata": {
    "colab": {
     "base_uri": "https://localhost:8080/",
     "height": 767
    },
    "id": "3apAaVmgJg0c",
    "outputId": "9acf1a81-2aac-4efc-f7c7-7b18cec882b3"
   },
   "outputs": [],
   "source": [
    "plt.figure(figsize=(5,4))\n",
    "...\n",
    "...\n",
    "\n",
    "## try to plot a clustermap with no yticklabels, your color palette centered at 0 and showing clusters both on the columns and rows \n",
    "## combine to your heatmap "
   ]
  },
  {
   "cell_type": "markdown",
   "metadata": {
    "id": "Mnly6osELHdx"
   },
   "source": [
    "# Saving figures \n",
    "\n",
    "Usually we are creating figures for talks or papers - for the latter, journals often ask us to provide high resolution figures (e.g., `scalable vector graphics, SVG`) with a specific number of `dots per inch, DPI`.\n",
    "\n",
    "Saving a file can be done as easy as `plt.savefig(\"filename\")`. This functionality also allows us to specify the file format and the DPI, allowing to save high-resolution figures. \n",
    "\n"
   ]
  },
  {
   "cell_type": "code",
   "execution_count": null,
   "metadata": {
    "colab": {
     "base_uri": "https://localhost:8080/",
     "height": 280
    },
    "id": "wcaEmyV-Srnz",
    "outputId": "423ca915-596e-4b59-edec-6e61d4ae7632"
   },
   "outputs": [],
   "source": [
    "sns.scatterplot(data=df, x=\"flipper_length_mm\", y=\"body_mass_g\")\n",
    "\n",
    "## 1. try to save a .png file with 300 DPI\n",
    "## 2. try to save a .svg file with 300 DPI\n",
    "\n",
    "plt.savefig(...) #save plot to working directory\n",
    "\n",
    "\n",
    "# Note:\n",
    "# an object-oriented approach would also allow to do: my_plot = plt.figure()\n",
    "# my_plot.savefig(\"filename.svg\")"
   ]
  },
  {
   "cell_type": "markdown",
   "metadata": {
    "id": "QpHvHo0tWuMm"
   },
   "source": [
    "# Downloading files from google Colab\n",
    "\n",
    "Since our current working directory is in google colab, we need to download the files to our local machine. \n",
    "\n",
    "- First let´s use the `os` module to check which files are currently written to our working dir\n",
    "- Afterwards, we can download the file in a very similar way as we did for the upload in session 1. \n",
    "\n",
    "\n",
    "Note: If you want to download multiple files at the same time, one needs to do a little [workaround](https://predictivehacks.com/?all-tips=how-to-download-files-and-folders-from-colab) "
   ]
  },
  {
   "cell_type": "code",
   "execution_count": null,
   "metadata": {
    "colab": {
     "base_uri": "https://localhost:8080/"
    },
    "id": "9pcDzufKXNri",
    "outputId": "3c5090c2-2a5f-4177-ff9b-40f93f561cd9"
   },
   "outputs": [],
   "source": [
    "import os\n",
    "\n",
    "os.listdir() #shows files in current working directory"
   ]
  },
  {
   "cell_type": "code",
   "execution_count": null,
   "metadata": {
    "colab": {
     "base_uri": "https://localhost:8080/",
     "height": 17
    },
    "id": "dqLAyouSUzfl",
    "outputId": "34083a9d-f9fc-4601-aa32-edde0dec72fc"
   },
   "outputs": [],
   "source": [
    "from google.colab import files\n",
    "\n",
    "files.download(\"scatter.svg\") # we need to specify the filename\n",
    "# this file should now be in your Downloads folder on your local machine\n",
    "# SVG can be opened with Google Chrome for example "
   ]
  },
  {
   "cell_type": "markdown",
   "metadata": {
    "id": "q9ddW6oaU8pT"
   },
   "source": [
    "Feel free to compare a `figure.png` with a `figure.svg`, especially if you zoom into your plot! "
   ]
  },
  {
   "cell_type": "markdown",
   "metadata": {
    "id": "2WsyZfZzYuEL"
   },
   "source": [
    "# The End 🎉\n",
    "\n",
    "\n",
    "![](https://i.imgflip.com/6vp5c6.jpg)\n"
   ]
  },
  {
   "cell_type": "code",
   "execution_count": null,
   "metadata": {
    "id": "SNfgKR4pZIPy"
   },
   "outputs": [],
   "source": []
  }
 ],
 "metadata": {
  "colab": {
   "collapsed_sections": [],
   "provenance": []
  },
  "kernelspec": {
   "display_name": "Python 3",
   "language": "python",
   "name": "python3"
  },
  "language_info": {
   "codemirror_mode": {
    "name": "ipython",
    "version": 3
   },
   "file_extension": ".py",
   "mimetype": "text/x-python",
   "name": "python",
   "nbconvert_exporter": "python",
   "pygments_lexer": "ipython3",
   "version": "3.7.6"
  }
 },
 "nbformat": 4,
 "nbformat_minor": 1
}
